{
 "cells": [
  {
   "cell_type": "markdown",
   "metadata": {},
   "source": [
    "### DOBRODOŠLI v programu za analizo podatkov spletne strani https://myanimelist.net/topanime.php\n",
    "Edino pravilo za uporabo je pogon vsake celice."
   ]
  },
  {
   "cell_type": "markdown",
   "metadata": {},
   "source": [
    "V prvi celici sem pripravil funkcijo. Vse kar je treba storiti je pognati celico, to bi vam moralo ustvariti csv datoteko, v kateri bodo zapisani podatki. Po želji lahko tudi spremenite argument število strani, trenutno je nastavljen na 20, kar pomeni, da se bo v csv naložilo 20*50 vrstic podatkov. Pri izbiri števila strani ne pretiravati (izberite manj kot 100, saj se že za 100 strani nalaga več kot minuto, poleg tega pa lahko stran neha dovoljevati prenos ogromne količine HTML-ja), predstavitev pa je bila narejena z izbiro 20 strani, kar pomeni 1000 animejev."
   ]
  },
  {
   "cell_type": "code",
   "execution_count": 12,
   "metadata": {},
   "outputs": [],
   "source": [
    "from mojcsv import *\n",
    "naredi_csv(\"ime_csv_datoteke.csv\", stevilo_strani=20)"
   ]
  },
  {
   "cell_type": "markdown",
   "metadata": {},
   "source": [
    "Sedaj lahko začnemo z analizo podatkov. S pomočjo knjižnice Pandas preberemo csv datoteko in ustvarimo razpredelnico, v kateri so prikazani ime, zvrst in število epizod, čas nastajanja, število uporabnikov in ocena animeja."
   ]
  },
  {
   "cell_type": "code",
   "execution_count": 13,
   "metadata": {},
   "outputs": [
    {
     "data": {
      "text/html": [
       "<div>\n",
       "<style scoped>\n",
       "    .dataframe tbody tr th:only-of-type {\n",
       "        vertical-align: middle;\n",
       "    }\n",
       "\n",
       "    .dataframe tbody tr th {\n",
       "        vertical-align: top;\n",
       "    }\n",
       "\n",
       "    .dataframe thead th {\n",
       "        text-align: right;\n",
       "    }\n",
       "</style>\n",
       "<table border=\"1\" class=\"dataframe\">\n",
       "  <thead>\n",
       "    <tr style=\"text-align: right;\">\n",
       "      <th></th>\n",
       "      <th>ime</th>\n",
       "      <th>zvrst in število epizod</th>\n",
       "      <th>čas nastajanja</th>\n",
       "      <th>število uporabnikov</th>\n",
       "      <th>ocena</th>\n",
       "    </tr>\n",
       "  </thead>\n",
       "  <tbody>\n",
       "    <tr>\n",
       "      <th>1</th>\n",
       "      <td>Sousou no Frieren</td>\n",
       "      <td>TV (28 eps)</td>\n",
       "      <td>Sep 2023 - Mar 2024</td>\n",
       "      <td>832004</td>\n",
       "      <td>9.34</td>\n",
       "    </tr>\n",
       "    <tr>\n",
       "      <th>2</th>\n",
       "      <td>Fullmetal Alchemist: Brotherhood</td>\n",
       "      <td>TV (64 eps)</td>\n",
       "      <td>Apr 2009 - Jul 2010</td>\n",
       "      <td>3387651</td>\n",
       "      <td>9.09</td>\n",
       "    </tr>\n",
       "    <tr>\n",
       "      <th>3</th>\n",
       "      <td>Steins;Gate</td>\n",
       "      <td>TV (24 eps)</td>\n",
       "      <td>Apr 2011 - Sep 2011</td>\n",
       "      <td>2594870</td>\n",
       "      <td>9.07</td>\n",
       "    </tr>\n",
       "    <tr>\n",
       "      <th>4</th>\n",
       "      <td>Gintama°</td>\n",
       "      <td>TV (51 eps)</td>\n",
       "      <td>Apr 2015 - Mar 2016</td>\n",
       "      <td>639453</td>\n",
       "      <td>9.06</td>\n",
       "    </tr>\n",
       "    <tr>\n",
       "      <th>5</th>\n",
       "      <td>Shingeki no Kyojin Season 3 Part 2</td>\n",
       "      <td>TV (10 eps)</td>\n",
       "      <td>Apr 2019 - Jul 2019</td>\n",
       "      <td>2318558</td>\n",
       "      <td>9.05</td>\n",
       "    </tr>\n",
       "    <tr>\n",
       "      <th>...</th>\n",
       "      <td>...</td>\n",
       "      <td>...</td>\n",
       "      <td>...</td>\n",
       "      <td>...</td>\n",
       "      <td>...</td>\n",
       "    </tr>\n",
       "    <tr>\n",
       "      <th>996</th>\n",
       "      <td>Lupin the IIIrd: Jigen Daisuke no Bohyou</td>\n",
       "      <td>Movie (1 eps)</td>\n",
       "      <td>Jun 2014 - Jun 2014</td>\n",
       "      <td>30043</td>\n",
       "      <td>7.80</td>\n",
       "    </tr>\n",
       "    <tr>\n",
       "      <th>997</th>\n",
       "      <td>Magi: Sinbad no Bouken</td>\n",
       "      <td>OVA (5 eps)</td>\n",
       "      <td>May 2014 - Jul 2015</td>\n",
       "      <td>137972</td>\n",
       "      <td>7.80</td>\n",
       "    </tr>\n",
       "    <tr>\n",
       "      <th>998</th>\n",
       "      <td>Mahoujin Guruguru (2017)</td>\n",
       "      <td>TV (24 eps)</td>\n",
       "      <td>Jul 2017 - Dec 2017</td>\n",
       "      <td>33668</td>\n",
       "      <td>7.80</td>\n",
       "    </tr>\n",
       "    <tr>\n",
       "      <th>999</th>\n",
       "      <td>Meitantei Conan Movie 08: Ginyoku no Time Trav...</td>\n",
       "      <td>TV Special (1 eps)</td>\n",
       "      <td>Apr 2004 - Apr 2004</td>\n",
       "      <td>22169</td>\n",
       "      <td>7.80</td>\n",
       "    </tr>\n",
       "    <tr>\n",
       "      <th>1000</th>\n",
       "      <td>Nodame Cantabile: Finale - Mine to Kiyora no S...</td>\n",
       "      <td>Special (1 eps)</td>\n",
       "      <td>Apr 2010 - Apr 2010</td>\n",
       "      <td>44863</td>\n",
       "      <td>7.80</td>\n",
       "    </tr>\n",
       "  </tbody>\n",
       "</table>\n",
       "<p>1000 rows × 5 columns</p>\n",
       "</div>"
      ],
      "text/plain": [
       "                                                    ime  \\\n",
       "1                                     Sousou no Frieren   \n",
       "2                      Fullmetal Alchemist: Brotherhood   \n",
       "3                                           Steins;Gate   \n",
       "4                                              Gintama°   \n",
       "5                    Shingeki no Kyojin Season 3 Part 2   \n",
       "...                                                 ...   \n",
       "996            Lupin the IIIrd: Jigen Daisuke no Bohyou   \n",
       "997                              Magi: Sinbad no Bouken   \n",
       "998                            Mahoujin Guruguru (2017)   \n",
       "999   Meitantei Conan Movie 08: Ginyoku no Time Trav...   \n",
       "1000  Nodame Cantabile: Finale - Mine to Kiyora no S...   \n",
       "\n",
       "     zvrst in število epizod       čas nastajanja  število uporabnikov  ocena  \n",
       "1                TV (28 eps)  Sep 2023 - Mar 2024               832004   9.34  \n",
       "2                TV (64 eps)  Apr 2009 - Jul 2010              3387651   9.09  \n",
       "3                TV (24 eps)  Apr 2011 - Sep 2011              2594870   9.07  \n",
       "4                TV (51 eps)  Apr 2015 - Mar 2016               639453   9.06  \n",
       "5                TV (10 eps)  Apr 2019 - Jul 2019              2318558   9.05  \n",
       "...                      ...                  ...                  ...    ...  \n",
       "996            Movie (1 eps)  Jun 2014 - Jun 2014                30043   7.80  \n",
       "997              OVA (5 eps)  May 2014 - Jul 2015               137972   7.80  \n",
       "998              TV (24 eps)  Jul 2017 - Dec 2017                33668   7.80  \n",
       "999       TV Special (1 eps)  Apr 2004 - Apr 2004                22169   7.80  \n",
       "1000         Special (1 eps)  Apr 2010 - Apr 2010                44863   7.80  \n",
       "\n",
       "[1000 rows x 5 columns]"
      ]
     },
     "execution_count": 13,
     "metadata": {},
     "output_type": "execute_result"
    }
   ],
   "source": [
    "import pandas as pd \n",
    "import matplotlib.pyplot as plt\n",
    "import matplotlib.ticker as ticker\n",
    "import seaborn as sns\n",
    "animeji = pd.read_csv(\"ime_csv_datoteke.csv\")\n",
    "animeji.index = animeji.index + 1 # zamaknemo, da se prvi anime začne z 1 ne z 0\n",
    "animeji[\"ime\"] = animeji[\"ime\"].str.replace(\"&#039;\", \"'\") # apostrof ima čuden html\n",
    "animeji['število uporabnikov'] = animeji['število uporabnikov'].str.replace(',', '').astype(int) # število uporabnikov želimo imeti kot celo število, ne niz\n",
    "animeji"
   ]
  },
  {
   "cell_type": "markdown",
   "metadata": {},
   "source": [
    "Pa si poglejmo še prvih 10 najbolje ocenjenih animejev."
   ]
  },
  {
   "cell_type": "code",
   "execution_count": 14,
   "metadata": {},
   "outputs": [
    {
     "data": {
      "text/html": [
       "<div>\n",
       "<style scoped>\n",
       "    .dataframe tbody tr th:only-of-type {\n",
       "        vertical-align: middle;\n",
       "    }\n",
       "\n",
       "    .dataframe tbody tr th {\n",
       "        vertical-align: top;\n",
       "    }\n",
       "\n",
       "    .dataframe thead th {\n",
       "        text-align: right;\n",
       "    }\n",
       "</style>\n",
       "<table border=\"1\" class=\"dataframe\">\n",
       "  <thead>\n",
       "    <tr style=\"text-align: right;\">\n",
       "      <th></th>\n",
       "      <th>ime</th>\n",
       "      <th>zvrst in število epizod</th>\n",
       "      <th>čas nastajanja</th>\n",
       "      <th>število uporabnikov</th>\n",
       "      <th>ocena</th>\n",
       "    </tr>\n",
       "  </thead>\n",
       "  <tbody>\n",
       "    <tr>\n",
       "      <th>1</th>\n",
       "      <td>Sousou no Frieren</td>\n",
       "      <td>TV (28 eps)</td>\n",
       "      <td>Sep 2023 - Mar 2024</td>\n",
       "      <td>832004</td>\n",
       "      <td>9.34</td>\n",
       "    </tr>\n",
       "    <tr>\n",
       "      <th>2</th>\n",
       "      <td>Fullmetal Alchemist: Brotherhood</td>\n",
       "      <td>TV (64 eps)</td>\n",
       "      <td>Apr 2009 - Jul 2010</td>\n",
       "      <td>3387651</td>\n",
       "      <td>9.09</td>\n",
       "    </tr>\n",
       "    <tr>\n",
       "      <th>3</th>\n",
       "      <td>Steins;Gate</td>\n",
       "      <td>TV (24 eps)</td>\n",
       "      <td>Apr 2011 - Sep 2011</td>\n",
       "      <td>2594870</td>\n",
       "      <td>9.07</td>\n",
       "    </tr>\n",
       "    <tr>\n",
       "      <th>4</th>\n",
       "      <td>Gintama°</td>\n",
       "      <td>TV (51 eps)</td>\n",
       "      <td>Apr 2015 - Mar 2016</td>\n",
       "      <td>639453</td>\n",
       "      <td>9.06</td>\n",
       "    </tr>\n",
       "    <tr>\n",
       "      <th>5</th>\n",
       "      <td>Shingeki no Kyojin Season 3 Part 2</td>\n",
       "      <td>TV (10 eps)</td>\n",
       "      <td>Apr 2019 - Jul 2019</td>\n",
       "      <td>2318558</td>\n",
       "      <td>9.05</td>\n",
       "    </tr>\n",
       "    <tr>\n",
       "      <th>6</th>\n",
       "      <td>Gintama: The Final</td>\n",
       "      <td>Movie (1 eps)</td>\n",
       "      <td>Jan 2021 - Jan 2021</td>\n",
       "      <td>154609</td>\n",
       "      <td>9.04</td>\n",
       "    </tr>\n",
       "    <tr>\n",
       "      <th>8</th>\n",
       "      <td>Hunter x Hunter (2011)</td>\n",
       "      <td>TV (148 eps)</td>\n",
       "      <td>Oct 2011 - Sep 2014</td>\n",
       "      <td>2879388</td>\n",
       "      <td>9.03</td>\n",
       "    </tr>\n",
       "    <tr>\n",
       "      <th>7</th>\n",
       "      <td>Gintama'</td>\n",
       "      <td>TV (51 eps)</td>\n",
       "      <td>Apr 2011 - Mar 2012</td>\n",
       "      <td>563970</td>\n",
       "      <td>9.03</td>\n",
       "    </tr>\n",
       "    <tr>\n",
       "      <th>9</th>\n",
       "      <td>Ginga Eiyuu Densetsu</td>\n",
       "      <td>OVA (110 eps)</td>\n",
       "      <td>Jan 1988 - Mar 1997</td>\n",
       "      <td>327180</td>\n",
       "      <td>9.02</td>\n",
       "    </tr>\n",
       "    <tr>\n",
       "      <th>10</th>\n",
       "      <td>Gintama': Enchousen</td>\n",
       "      <td>TV (13 eps)</td>\n",
       "      <td>Oct 2012 - Mar 2013</td>\n",
       "      <td>329407</td>\n",
       "      <td>9.02</td>\n",
       "    </tr>\n",
       "  </tbody>\n",
       "</table>\n",
       "</div>"
      ],
      "text/plain": [
       "                                   ime zvrst in število epizod  \\\n",
       "1                    Sousou no Frieren             TV (28 eps)   \n",
       "2     Fullmetal Alchemist: Brotherhood             TV (64 eps)   \n",
       "3                          Steins;Gate             TV (24 eps)   \n",
       "4                             Gintama°             TV (51 eps)   \n",
       "5   Shingeki no Kyojin Season 3 Part 2             TV (10 eps)   \n",
       "6                   Gintama: The Final           Movie (1 eps)   \n",
       "8               Hunter x Hunter (2011)            TV (148 eps)   \n",
       "7                             Gintama'             TV (51 eps)   \n",
       "9                 Ginga Eiyuu Densetsu           OVA (110 eps)   \n",
       "10                 Gintama': Enchousen             TV (13 eps)   \n",
       "\n",
       "         čas nastajanja  število uporabnikov  ocena  \n",
       "1   Sep 2023 - Mar 2024               832004   9.34  \n",
       "2   Apr 2009 - Jul 2010              3387651   9.09  \n",
       "3   Apr 2011 - Sep 2011              2594870   9.07  \n",
       "4   Apr 2015 - Mar 2016               639453   9.06  \n",
       "5   Apr 2019 - Jul 2019              2318558   9.05  \n",
       "6   Jan 2021 - Jan 2021               154609   9.04  \n",
       "8   Oct 2011 - Sep 2014              2879388   9.03  \n",
       "7   Apr 2011 - Mar 2012               563970   9.03  \n",
       "9   Jan 1988 - Mar 1997               327180   9.02  \n",
       "10  Oct 2012 - Mar 2013               329407   9.02  "
      ]
     },
     "execution_count": 14,
     "metadata": {},
     "output_type": "execute_result"
    }
   ],
   "source": [
    "najbolje_ocenjeni = animeji.sort_values(by=\"ocena\", ascending=False)\n",
    "najbolje_ocenjeni.head(10)"
   ]
  },
  {
   "cell_type": "markdown",
   "metadata": {},
   "source": [
    "In še prvih 10 najpopularnejših animejev."
   ]
  },
  {
   "cell_type": "code",
   "execution_count": 15,
   "metadata": {},
   "outputs": [
    {
     "data": {
      "text/html": [
       "<div>\n",
       "<style scoped>\n",
       "    .dataframe tbody tr th:only-of-type {\n",
       "        vertical-align: middle;\n",
       "    }\n",
       "\n",
       "    .dataframe tbody tr th {\n",
       "        vertical-align: top;\n",
       "    }\n",
       "\n",
       "    .dataframe thead th {\n",
       "        text-align: right;\n",
       "    }\n",
       "</style>\n",
       "<table border=\"1\" class=\"dataframe\">\n",
       "  <thead>\n",
       "    <tr style=\"text-align: right;\">\n",
       "      <th></th>\n",
       "      <th>ime</th>\n",
       "      <th>zvrst in število epizod</th>\n",
       "      <th>čas nastajanja</th>\n",
       "      <th>število uporabnikov</th>\n",
       "      <th>ocena</th>\n",
       "    </tr>\n",
       "  </thead>\n",
       "  <tbody>\n",
       "    <tr>\n",
       "      <th>110</th>\n",
       "      <td>Shingeki no Kyojin</td>\n",
       "      <td>TV (25 eps)</td>\n",
       "      <td>Apr 2013 - Sep 2013</td>\n",
       "      <td>3998676</td>\n",
       "      <td>8.55</td>\n",
       "    </tr>\n",
       "    <tr>\n",
       "      <th>85</th>\n",
       "      <td>Death Note</td>\n",
       "      <td>TV (37 eps)</td>\n",
       "      <td>Oct 2006 - Jun 2007</td>\n",
       "      <td>3952098</td>\n",
       "      <td>8.62</td>\n",
       "    </tr>\n",
       "    <tr>\n",
       "      <th>2</th>\n",
       "      <td>Fullmetal Alchemist: Brotherhood</td>\n",
       "      <td>TV (64 eps)</td>\n",
       "      <td>Apr 2009 - Jul 2010</td>\n",
       "      <td>3387651</td>\n",
       "      <td>9.09</td>\n",
       "    </tr>\n",
       "    <tr>\n",
       "      <th>139</th>\n",
       "      <td>One Punch Man</td>\n",
       "      <td>TV (12 eps)</td>\n",
       "      <td>Oct 2015 - Dec 2015</td>\n",
       "      <td>3260144</td>\n",
       "      <td>8.49</td>\n",
       "    </tr>\n",
       "    <tr>\n",
       "      <th>152</th>\n",
       "      <td>Kimetsu no Yaiba</td>\n",
       "      <td>TV (26 eps)</td>\n",
       "      <td>Apr 2019 - Sep 2019</td>\n",
       "      <td>3089137</td>\n",
       "      <td>8.46</td>\n",
       "    </tr>\n",
       "    <tr>\n",
       "      <th>860</th>\n",
       "      <td>Boku no Hero Academia</td>\n",
       "      <td>TV (13 eps)</td>\n",
       "      <td>Apr 2016 - Jun 2016</td>\n",
       "      <td>3060854</td>\n",
       "      <td>7.86</td>\n",
       "    </tr>\n",
       "    <tr>\n",
       "      <th>640</th>\n",
       "      <td>Naruto</td>\n",
       "      <td>TV (220 eps)</td>\n",
       "      <td>Oct 2002 - Feb 2007</td>\n",
       "      <td>2886888</td>\n",
       "      <td>8.00</td>\n",
       "    </tr>\n",
       "    <tr>\n",
       "      <th>8</th>\n",
       "      <td>Hunter x Hunter (2011)</td>\n",
       "      <td>TV (148 eps)</td>\n",
       "      <td>Oct 2011 - Sep 2014</td>\n",
       "      <td>2879388</td>\n",
       "      <td>9.03</td>\n",
       "    </tr>\n",
       "    <tr>\n",
       "      <th>28</th>\n",
       "      <td>Kimi no Na wa.</td>\n",
       "      <td>Movie (1 eps)</td>\n",
       "      <td>Aug 2016 - Aug 2016</td>\n",
       "      <td>2780702</td>\n",
       "      <td>8.83</td>\n",
       "    </tr>\n",
       "    <tr>\n",
       "      <th>123</th>\n",
       "      <td>Shingeki no Kyojin Season 2</td>\n",
       "      <td>TV (12 eps)</td>\n",
       "      <td>Apr 2017 - Jun 2017</td>\n",
       "      <td>2759315</td>\n",
       "      <td>8.52</td>\n",
       "    </tr>\n",
       "  </tbody>\n",
       "</table>\n",
       "</div>"
      ],
      "text/plain": [
       "                                  ime zvrst in število epizod  \\\n",
       "110                Shingeki no Kyojin             TV (25 eps)   \n",
       "85                         Death Note             TV (37 eps)   \n",
       "2    Fullmetal Alchemist: Brotherhood             TV (64 eps)   \n",
       "139                     One Punch Man             TV (12 eps)   \n",
       "152                  Kimetsu no Yaiba             TV (26 eps)   \n",
       "860             Boku no Hero Academia             TV (13 eps)   \n",
       "640                            Naruto            TV (220 eps)   \n",
       "8              Hunter x Hunter (2011)            TV (148 eps)   \n",
       "28                     Kimi no Na wa.           Movie (1 eps)   \n",
       "123       Shingeki no Kyojin Season 2             TV (12 eps)   \n",
       "\n",
       "          čas nastajanja  število uporabnikov  ocena  \n",
       "110  Apr 2013 - Sep 2013              3998676   8.55  \n",
       "85   Oct 2006 - Jun 2007              3952098   8.62  \n",
       "2    Apr 2009 - Jul 2010              3387651   9.09  \n",
       "139  Oct 2015 - Dec 2015              3260144   8.49  \n",
       "152  Apr 2019 - Sep 2019              3089137   8.46  \n",
       "860  Apr 2016 - Jun 2016              3060854   7.86  \n",
       "640  Oct 2002 - Feb 2007              2886888   8.00  \n",
       "8    Oct 2011 - Sep 2014              2879388   9.03  \n",
       "28   Aug 2016 - Aug 2016              2780702   8.83  \n",
       "123  Apr 2017 - Jun 2017              2759315   8.52  "
      ]
     },
     "execution_count": 15,
     "metadata": {},
     "output_type": "execute_result"
    }
   ],
   "source": [
    "najpopularnejši_animeji = animeji.sort_values(by=\"število uporabnikov\", ascending=False)\n",
    "najpopularnejši_animeji.head(10)"
   ]
  },
  {
   "cell_type": "markdown",
   "metadata": {},
   "source": [
    "Oglejmo si še povprečno oceno animeja."
   ]
  },
  {
   "cell_type": "code",
   "execution_count": 16,
   "metadata": {},
   "outputs": [
    {
     "name": "stdout",
     "output_type": "stream",
     "text": [
      "Povprečna ocena: 8.15996\n"
     ]
    }
   ],
   "source": [
    "povprečna_ocena = animeji[\"ocena\"].mean()\n",
    "print(\"Povprečna ocena:\", povprečna_ocena)"
   ]
  },
  {
   "cell_type": "markdown",
   "metadata": {},
   "source": [
    "Izračunajmo še povprečno število epizod, ki jih ima anime."
   ]
  },
  {
   "cell_type": "code",
   "execution_count": 17,
   "metadata": {},
   "outputs": [
    {
     "name": "stdout",
     "output_type": "stream",
     "text": [
      "Povprečno število epizod anime serije: 28.81\n"
     ]
    },
    {
     "name": "stderr",
     "output_type": "stream",
     "text": [
      "C:\\Users\\Uporabnik\\AppData\\Local\\Temp\\ipykernel_14576\\577650493.py:8: SettingWithCopyWarning: \n",
      "A value is trying to be set on a copy of a slice from a DataFrame.\n",
      "Try using .loc[row_indexer,col_indexer] = value instead\n",
      "\n",
      "See the caveats in the documentation: https://pandas.pydata.org/pandas-docs/stable/user_guide/indexing.html#returning-a-view-versus-a-copy\n",
      "  anime_serije[\"epizode\"] = anime_serije[\"zvrst in število epizod\"].apply(izlušči_epizode)\n"
     ]
    }
   ],
   "source": [
    "anime_serije = animeji[animeji[\"zvrst in število epizod\"].str.contains(\"TV\")]\n",
    "def izlušči_epizode(podatki):\n",
    "    try:\n",
    "        return int(podatki.split('(')[1].split(' ')[0])\n",
    "    except:\n",
    "        return None\n",
    "\n",
    "anime_serije[\"epizode\"] = anime_serije[\"zvrst in število epizod\"].apply(izlušči_epizode)\n",
    "povprečno_št_epizod_anime_serije = anime_serije[\"epizode\"].mean()\n",
    "print(\"Povprečno število epizod anime serije:\", round(povprečno_št_epizod_anime_serije, 2))"
   ]
  },
  {
   "cell_type": "markdown",
   "metadata": {},
   "source": [
    "Poglejmo si še 10 najdaljših animejev."
   ]
  },
  {
   "cell_type": "code",
   "execution_count": 18,
   "metadata": {},
   "outputs": [
    {
     "data": {
      "text/html": [
       "<div>\n",
       "<style scoped>\n",
       "    .dataframe tbody tr th:only-of-type {\n",
       "        vertical-align: middle;\n",
       "    }\n",
       "\n",
       "    .dataframe tbody tr th {\n",
       "        vertical-align: top;\n",
       "    }\n",
       "\n",
       "    .dataframe thead th {\n",
       "        text-align: right;\n",
       "    }\n",
       "</style>\n",
       "<table border=\"1\" class=\"dataframe\">\n",
       "  <thead>\n",
       "    <tr style=\"text-align: right;\">\n",
       "      <th></th>\n",
       "      <th>ime</th>\n",
       "      <th>zvrst in število epizod</th>\n",
       "      <th>čas nastajanja</th>\n",
       "      <th>število uporabnikov</th>\n",
       "      <th>ocena</th>\n",
       "    </tr>\n",
       "  </thead>\n",
       "  <tbody>\n",
       "    <tr>\n",
       "      <th>916</th>\n",
       "      <td>Doraemon (1979)</td>\n",
       "      <td>TV (1787 eps)</td>\n",
       "      <td>Apr 1979 - Mar 2005</td>\n",
       "      <td>64859</td>\n",
       "      <td>7.84</td>\n",
       "    </tr>\n",
       "    <tr>\n",
       "      <th>305</th>\n",
       "      <td>Naruto: Shippuuden</td>\n",
       "      <td>TV (500 eps)</td>\n",
       "      <td>Feb 2007 - Mar 2017</td>\n",
       "      <td>2518569</td>\n",
       "      <td>8.27</td>\n",
       "    </tr>\n",
       "    <tr>\n",
       "      <th>700</th>\n",
       "      <td>Bleach</td>\n",
       "      <td>TV (366 eps)</td>\n",
       "      <td>Oct 2004 - Mar 2012</td>\n",
       "      <td>1995662</td>\n",
       "      <td>7.95</td>\n",
       "    </tr>\n",
       "    <tr>\n",
       "      <th>405</th>\n",
       "      <td>Dragon Ball Z</td>\n",
       "      <td>TV (291 eps)</td>\n",
       "      <td>Apr 1989 - Jan 1996</td>\n",
       "      <td>1240275</td>\n",
       "      <td>8.18</td>\n",
       "    </tr>\n",
       "    <tr>\n",
       "      <th>640</th>\n",
       "      <td>Naruto</td>\n",
       "      <td>TV (220 eps)</td>\n",
       "      <td>Oct 2002 - Feb 2007</td>\n",
       "      <td>2886888</td>\n",
       "      <td>8.00</td>\n",
       "    </tr>\n",
       "    <tr>\n",
       "      <th>475</th>\n",
       "      <td>Katekyou Hitman Reborn!</td>\n",
       "      <td>TV (203 eps)</td>\n",
       "      <td>Oct 2006 - Sep 2010</td>\n",
       "      <td>561318</td>\n",
       "      <td>8.12</td>\n",
       "    </tr>\n",
       "    <tr>\n",
       "      <th>18</th>\n",
       "      <td>Gintama</td>\n",
       "      <td>TV (201 eps)</td>\n",
       "      <td>Apr 2006 - Mar 2010</td>\n",
       "      <td>1076336</td>\n",
       "      <td>8.93</td>\n",
       "    </tr>\n",
       "    <tr>\n",
       "      <th>895</th>\n",
       "      <td>Tennis no Oujisama</td>\n",
       "      <td>TV (178 eps)</td>\n",
       "      <td>Oct 2001 - Mar 2005</td>\n",
       "      <td>186571</td>\n",
       "      <td>7.85</td>\n",
       "    </tr>\n",
       "    <tr>\n",
       "      <th>457</th>\n",
       "      <td>Black Clover</td>\n",
       "      <td>TV (170 eps)</td>\n",
       "      <td>Oct 2017 - Mar 2021</td>\n",
       "      <td>1697909</td>\n",
       "      <td>8.14</td>\n",
       "    </tr>\n",
       "    <tr>\n",
       "      <th>864</th>\n",
       "      <td>InuYasha</td>\n",
       "      <td>TV (167 eps)</td>\n",
       "      <td>Oct 2000 - Sep 2004</td>\n",
       "      <td>807180</td>\n",
       "      <td>7.86</td>\n",
       "    </tr>\n",
       "  </tbody>\n",
       "</table>\n",
       "</div>"
      ],
      "text/plain": [
       "                         ime zvrst in število epizod       čas nastajanja  \\\n",
       "916          Doraemon (1979)           TV (1787 eps)  Apr 1979 - Mar 2005   \n",
       "305       Naruto: Shippuuden            TV (500 eps)  Feb 2007 - Mar 2017   \n",
       "700                   Bleach            TV (366 eps)  Oct 2004 - Mar 2012   \n",
       "405            Dragon Ball Z            TV (291 eps)  Apr 1989 - Jan 1996   \n",
       "640                   Naruto            TV (220 eps)  Oct 2002 - Feb 2007   \n",
       "475  Katekyou Hitman Reborn!            TV (203 eps)  Oct 2006 - Sep 2010   \n",
       "18                   Gintama            TV (201 eps)  Apr 2006 - Mar 2010   \n",
       "895       Tennis no Oujisama            TV (178 eps)  Oct 2001 - Mar 2005   \n",
       "457             Black Clover            TV (170 eps)  Oct 2017 - Mar 2021   \n",
       "864                 InuYasha            TV (167 eps)  Oct 2000 - Sep 2004   \n",
       "\n",
       "     število uporabnikov  ocena  \n",
       "916                64859   7.84  \n",
       "305              2518569   8.27  \n",
       "700              1995662   7.95  \n",
       "405              1240275   8.18  \n",
       "640              2886888   8.00  \n",
       "475               561318   8.12  \n",
       "18               1076336   8.93  \n",
       "895               186571   7.85  \n",
       "457              1697909   8.14  \n",
       "864               807180   7.86  "
      ]
     },
     "execution_count": 18,
     "metadata": {},
     "output_type": "execute_result"
    }
   ],
   "source": [
    "najdaljši_animeji = animeji[animeji[\"zvrst in število epizod\"].str.contains(\"TV\")].copy()\n",
    "najdaljši_animeji[\"epizode\"] = najdaljši_animeji[\"zvrst in število epizod\"].apply(izlušči_epizode)\n",
    "najdaljši_animeji = najdaljši_animeji.sort_values(by=\"epizode\", ascending=False)\n",
    "najdaljši_animeji = najdaljši_animeji.drop(columns=[\"epizode\"])\n",
    "najdaljši_animeji.head(10)"
   ]
  },
  {
   "cell_type": "markdown",
   "metadata": {},
   "source": [
    "Spodaj je prikazan tudi histogram, ki pove, koliko animejev ima določeno oceno."
   ]
  },
  {
   "cell_type": "code",
   "execution_count": 19,
   "metadata": {},
   "outputs": [
    {
     "data": {
      "text/plain": [
       "Text(0, 0.5, 'pogostost')"
      ]
     },
     "execution_count": 19,
     "metadata": {},
     "output_type": "execute_result"
    },
    {
     "data": {
      "image/png": "[encoded data removed]",
      "text/plain": [
       "<Figure size 640x480 with 1 Axes>"
      ]
     },
     "metadata": {},
     "output_type": "display_data"
    }
   ],
   "source": [
    "sns.histplot(animeji[\"ocena\"])\n",
    "plt.title(\"Porazdelitev ocen\")\n",
    "plt.ylabel(\"pogostost\")"
   ]
  },
  {
   "cell_type": "markdown",
   "metadata": {},
   "source": [
    "Postavimo hipotezo, da imajo animeji, ki so daljši, tudi višje ocene. To bi se lahko zgodilo, saj bi lahko dolžina animeja implicirala tudi njegovo kvaliteto in zato dobro oceno."
   ]
  },
  {
   "cell_type": "code",
   "execution_count": 20,
   "metadata": {},
   "outputs": [
    {
     "data": {
      "text/plain": [
       "Text(0.5, 1.0, 'Epizode in ocena')"
      ]
     },
     "execution_count": 20,
     "metadata": {},
     "output_type": "execute_result"
    },
    {
     "data": {
      "image/png": "[encoded data removed]",
      "text/plain": [
       "<Figure size 640x480 with 1 Axes>"
      ]
     },
     "metadata": {},
     "output_type": "display_data"
    }
   ],
   "source": [
    "najdaljši_animeji = animeji[animeji[\"zvrst in število epizod\"].str.contains(\"TV\")].copy()\n",
    "najdaljši_animeji[\"epizode\"] = najdaljši_animeji[\"zvrst in število epizod\"].apply(izlušči_epizode)\n",
    "anime_serije.plot.scatter(x=\"epizode\", y=\"ocena\", logx=True)\n",
    "plt.title(\"Epizode in ocena\")"
   ]
  },
  {
   "cell_type": "markdown",
   "metadata": {},
   "source": [
    "Na podlagi grafa lahko hipotezo ovržemo, kvaliteta animeja torej ni odvisna od njegove dolžine."
   ]
  },
  {
   "cell_type": "markdown",
   "metadata": {},
   "source": [
    "Pa si poglejmo, če je mogoče kvaliteta animeja v kakšni pozitivni korelaciji s številom uporabnikov (ljudi, ki so ga gledali)."
   ]
  },
  {
   "cell_type": "code",
   "execution_count": 21,
   "metadata": {},
   "outputs": [
    {
     "data": {
      "image/png": "[encoded data removed]",
      "text/plain": [
       "<Figure size 640x480 with 1 Axes>"
      ]
     },
     "metadata": {},
     "output_type": "display_data"
    }
   ],
   "source": [
    "animeji.plot.scatter(x=\"ocena\", y=\"število uporabnikov\")\n",
    "plt.title(\"Ocena in število uporabnikov\")\n",
    "plt.gca().yaxis.set_major_formatter(ticker.StrMethodFormatter('{x:,.0f}')) # treba je bilo prilagoditi skalo za število uporabnikov"
   ]
  },
  {
   "cell_type": "markdown",
   "metadata": {},
   "source": [
    "Tukaj tudi ni opaziti kakšne korelacije, gostost grafa na levem spodnjem delu je posledica porazdelitev ocen (glej graf \"Porazdelitev ocen\")."
   ]
  },
  {
   "cell_type": "markdown",
   "metadata": {},
   "source": [
    "Za konec si poglejmo še graf \"Porazdelitev epizod\", ki predstavlja koliko animejev ima določeno število epizod."
   ]
  },
  {
   "cell_type": "code",
   "execution_count": 22,
   "metadata": {},
   "outputs": [
    {
     "data": {
      "text/plain": [
       "Text(0, 0.5, 'pogostost')"
      ]
     },
     "execution_count": 22,
     "metadata": {},
     "output_type": "execute_result"
    },
    {
     "data": {
      "image/png": "[encoded data removed]",
      "text/plain": [
       "<Figure size 640x480 with 1 Axes>"
      ]
     },
     "metadata": {},
     "output_type": "display_data"
    }
   ],
   "source": [
    "sns.histplot(anime_serije[\"epizode\"])\n",
    "plt.xscale(\"log\")\n",
    "plt.title(\"Porazdelitev epizod\")\n",
    "plt.ylabel(\"pogostost\")"
   ]
  },
  {
   "cell_type": "markdown",
   "metadata": {},
   "source": [
    "Vidimo, da ima največ animejev 12 epizod."
   ]
  }
 ],
 "metadata": {
  "kernelspec": {
   "display_name": "venv",
   "language": "python",
   "name": "python3"
  },
  "language_info": {
   "codemirror_mode": {
    "name": "ipython",
    "version": 3
   },
   "file_extension": ".py",
   "mimetype": "text/x-python",
   "name": "python",
   "nbconvert_exporter": "python",
   "pygments_lexer": "ipython3",
   "version": "3.12.4"
  }
 },
 "nbformat": 4,
 "nbformat_minor": 2
}
